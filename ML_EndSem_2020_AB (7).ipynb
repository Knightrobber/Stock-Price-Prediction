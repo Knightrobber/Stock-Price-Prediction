{
  "nbformat": 4,
  "nbformat_minor": 0,
  "metadata": {
    "kernelspec": {
      "display_name": "Python 3",
      "language": "python",
      "name": "python3"
    },
    "language_info": {
      "codemirror_mode": {
        "name": "ipython",
        "version": 3
      },
      "file_extension": ".py",
      "mimetype": "text/x-python",
      "name": "python",
      "nbconvert_exporter": "python",
      "pygments_lexer": "ipython3",
      "version": "3.6.9"
    },
    "colab": {
      "name": "ML_EndSem_2020_AB.ipynb",
      "provenance": [],
      "collapsed_sections": []
    }
  },
  "cells": [
    {
      "cell_type": "markdown",
      "metadata": {
        "id": "Pnwb1KNsMtgO"
      },
      "source": [
        "# Stock Market Prediction And Forecasting Using Stacked LSTM"
      ]
    },
    {
      "cell_type": "markdown",
      "metadata": {
        "id": "JR7Y_9_4QBOP"
      },
      "source": [
        "## The Imports for the program below"
      ]
    },
    {
      "cell_type": "code",
      "metadata": {
        "id": "cHpMDgM5MtgP"
      },
      "source": [
        "import pandas as pd\n",
        "import math\n",
        "from sklearn.metrics import mean_squared_error\n",
        "import matplotlib.pyplot as plt\n",
        "import numpy as np\n",
        "from sklearn.preprocessing import MinMaxScaler\n",
        "import numpy\n",
        "from numpy import array\n",
        "\n",
        "from tensorflow.keras.models import Sequential\n",
        "from tensorflow.keras.layers import Dense\n",
        "from tensorflow.keras.layers import LSTM\n",
        "\n",
        "import tensorflow as tf"
      ],
      "execution_count": 496,
      "outputs": []
    },
    {
      "cell_type": "markdown",
      "metadata": {
        "id": "F0qnSVwUQMI5"
      },
      "source": [
        "## Importing the dataset from a csv file\n",
        "We'll be using only the closing values."
      ]
    },
    {
      "cell_type": "code",
      "metadata": {
        "id": "of0SF0OCMtgP"
      },
      "source": [
        "df=pd.read_csv('NSETATA.csv')\n",
        "df1=df.reset_index()['Close']"
      ],
      "execution_count": 497,
      "outputs": []
    },
    {
      "cell_type": "markdown",
      "metadata": {
        "id": "fHs9h5kUQZYL"
      },
      "source": [
        "## Plotting the initial dataset"
      ]
    },
    {
      "cell_type": "code",
      "metadata": {
        "colab": {
          "base_uri": "https://localhost:8080/",
          "height": 486
        },
        "id": "5fs_13hDMtgT",
        "outputId": "9a6140a2-160c-4a7c-9e16-9981469a2361"
      },
      "source": [
        "df1, plt.plot(df1)"
      ],
      "execution_count": 498,
      "outputs": [
        {
          "output_type": "execute_result",
          "data": {
            "text/plain": [
              "(0       215.15\n",
              " 1       209.20\n",
              " 2       218.20\n",
              " 3       227.60\n",
              " 4       230.90\n",
              "          ...  \n",
              " 1230    159.45\n",
              " 1231    160.05\n",
              " 1232    160.15\n",
              " 1233    155.55\n",
              " 1234    155.80\n",
              " Name: Close, Length: 1235, dtype: float64,\n",
              " [<matplotlib.lines.Line2D at 0x7f5184b97390>])"
            ]
          },
          "metadata": {
            "tags": []
          },
          "execution_count": 498
        },
        {
          "output_type": "display_data",
          "data": {
            "image/png": "[encoded data removed]",
            "text/plain": [
              "<Figure size 432x288 with 1 Axes>"
            ]
          },
          "metadata": {
            "tags": [],
            "needs_background": "light"
          }
        }
      ]
    },
    {
      "cell_type": "markdown",
      "metadata": {
        "id": "NrHCTkzDQdjo"
      },
      "source": [
        "## The Initial Data Values after they are scaled down to values between 0 and 1 according to the minimum and maximum values of the dataset"
      ]
    },
    {
      "cell_type": "code",
      "metadata": {
        "id": "vyZs98zYMtgT",
        "colab": {
          "base_uri": "https://localhost:8080/",
          "height": 384
        },
        "outputId": "41ba7429-ee7a-49ad-f37c-62d3ad2d2464"
      },
      "source": [
        "scaler=MinMaxScaler(feature_range=(0,1))\n",
        "df1=scaler.fit_transform(np.array(df1).reshape(-1,1))\n",
        "df1, plt.plot(df1)"
      ],
      "execution_count": 499,
      "outputs": [
        {
          "output_type": "execute_result",
          "data": {
            "text/plain": [
              "(array([[0.50425818],\n",
              "        [0.47758853],\n",
              "        [0.51792918],\n",
              "        ...,\n",
              "        [0.25773196],\n",
              "        [0.2371134 ],\n",
              "        [0.23823398]]), [<matplotlib.lines.Line2D at 0x7f5184b6c898>])"
            ]
          },
          "metadata": {
            "tags": []
          },
          "execution_count": 499
        },
        {
          "output_type": "display_data",
          "data": {
            "image/png": "[encoded data removed]",
            "text/plain": [
              "<Figure size 432x288 with 1 Axes>"
            ]
          },
          "metadata": {
            "tags": [],
            "needs_background": "light"
          }
        }
      ]
    },
    {
      "cell_type": "code",
      "metadata": {
        "id": "5e74WBiJMtgU",
        "colab": {
          "base_uri": "https://localhost:8080/"
        },
        "outputId": "cb71b881-848e-4a18-b583-0b84e3d93699"
      },
      "source": [
        "##splitting dataset into train and test split\n",
        "training_size=int(len(df1)*0.65)\n",
        "test_size=len(df1)-training_size\n",
        "train_data = df1[0:training_size,:]\n",
        "test_data = df1[training_size:len(df1),:1]\n",
        "training_size,test_size"
      ],
      "execution_count": 500,
      "outputs": [
        {
          "output_type": "execute_result",
          "data": {
            "text/plain": [
              "(802, 433)"
            ]
          },
          "metadata": {
            "tags": []
          },
          "execution_count": 500
        }
      ]
    },
    {
      "cell_type": "markdown",
      "metadata": {
        "id": "f4N8JBCURv6r"
      },
      "source": [
        "## The first 10 values for the training data"
      ]
    },
    {
      "cell_type": "code",
      "metadata": {
        "colab": {
          "base_uri": "https://localhost:8080/"
        },
        "id": "lyobrsQbMtgU",
        "outputId": "0d3b8bf8-f1eb-4340-b2ae-ee675cab45de"
      },
      "source": [
        "train_data[:10]"
      ],
      "execution_count": 501,
      "outputs": [
        {
          "output_type": "execute_result",
          "data": {
            "text/plain": [
              "array([[0.50425818],\n",
              "       [0.47758853],\n",
              "       [0.51792918],\n",
              "       [0.56006275],\n",
              "       [0.57485433],\n",
              "       [0.58762887],\n",
              "       [0.58538772],\n",
              "       [0.58987001],\n",
              "       [0.59816226],\n",
              "       [0.58561183]])"
            ]
          },
          "metadata": {
            "tags": []
          },
          "execution_count": 501
        }
      ]
    },
    {
      "cell_type": "markdown",
      "metadata": {
        "id": "O8qjlWT5SJAG"
      },
      "source": [
        "## Adding the previous 100 values as the second array for each element in our dataset for the LSTM format required by Tensorflow"
      ]
    },
    {
      "cell_type": "code",
      "metadata": {
        "id": "7c9Q01KdMtgU"
      },
      "source": [
        "def prepare_dataset(dataset, time_step=1):\n",
        "\tdataX, dataY = [], []\n",
        "\tfor i in range(len(dataset)-time_step-1):\n",
        "\t\ta = dataset[i:(i+time_step), 0]   ###i=0, 0,1,2,3-----99   100 \n",
        "\t\tdataX.append(a)\n",
        "\t\tdataY.append(dataset[i + time_step, 0])\n",
        "\treturn numpy.array(dataX), numpy.array(dataY)\n",
        "time_step = 100\n",
        "X_train, y_train = prepare_dataset(train_data, time_step)\n",
        "X_test, ytest = prepare_dataset(test_data, time_step)\n",
        "X_train =X_train.reshape(X_train.shape[0],X_train.shape[1] , 1)\n",
        "X_test = X_test.reshape(X_test.shape[0],X_test.shape[1] , 1)"
      ],
      "execution_count": 502,
      "outputs": []
    },
    {
      "cell_type": "markdown",
      "metadata": {
        "id": "AmlY3RYNSjof"
      },
      "source": [
        "## Configuring The Model\n",
        "The LSTM model used has 50 neurons and the input shape that we've prepared."
      ]
    },
    {
      "cell_type": "code",
      "metadata": {
        "id": "PGlL8DH7MtgV",
        "colab": {
          "base_uri": "https://localhost:8080/"
        },
        "outputId": "8ef7327c-9e29-4ea5-9128-18107fde1576"
      },
      "source": [
        "model=Sequential()\n",
        "model.add(LSTM(50,input_shape=(100,1)))\n",
        "model.add(Dense(1))\n",
        "model.compile(loss='mean_squared_error',optimizer='adam')\n",
        "model.summary()"
      ],
      "execution_count": 503,
      "outputs": [
        {
          "output_type": "stream",
          "text": [
            "Model: \"sequential_13\"\n",
            "_________________________________________________________________\n",
            "Layer (type)                 Output Shape              Param #   \n",
            "=================================================================\n",
            "lstm_19 (LSTM)               (None, 50)                10400     \n",
            "_________________________________________________________________\n",
            "dense_13 (Dense)             (None, 1)                 51        \n",
            "=================================================================\n",
            "Total params: 10,451\n",
            "Trainable params: 10,451\n",
            "Non-trainable params: 0\n",
            "_________________________________________________________________\n"
          ],
          "name": "stdout"
        }
      ]
    },
    {
      "cell_type": "markdown",
      "metadata": {
        "id": "wLy7MI7aS2Ti"
      },
      "source": [
        "## Training the model"
      ]
    },
    {
      "cell_type": "code",
      "metadata": {
        "colab": {
          "base_uri": "https://localhost:8080/"
        },
        "id": "jDciwbETMtgW",
        "outputId": "3d530e4e-4ca5-4bda-d876-191fb3b82048"
      },
      "source": [
        "model.fit(X_train,y_train,validation_data=(X_test,ytest),epochs=100,batch_size=64,verbose=1)"
      ],
      "execution_count": 504,
      "outputs": [
        {
          "output_type": "stream",
          "text": [
            "Epoch 1/100\n",
            "11/11 [==============================] - 1s 106ms/step - loss: 0.0969 - val_loss: 8.1893e-04\n",
            "Epoch 2/100\n",
            "11/11 [==============================] - 1s 61ms/step - loss: 0.0130 - val_loss: 0.0020\n",
            "Epoch 3/100\n",
            "11/11 [==============================] - 1s 67ms/step - loss: 0.0069 - val_loss: 6.5998e-04\n",
            "Epoch 4/100\n",
            "11/11 [==============================] - 1s 68ms/step - loss: 0.0030 - val_loss: 7.4578e-04\n",
            "Epoch 5/100\n",
            "11/11 [==============================] - 1s 66ms/step - loss: 0.0021 - val_loss: 0.0012\n",
            "Epoch 6/100\n",
            "11/11 [==============================] - 1s 68ms/step - loss: 0.0017 - val_loss: 9.7106e-04\n",
            "Epoch 7/100\n",
            "11/11 [==============================] - 1s 69ms/step - loss: 0.0017 - val_loss: 0.0011\n",
            "Epoch 8/100\n",
            "11/11 [==============================] - 1s 67ms/step - loss: 0.0017 - val_loss: 8.8820e-04\n",
            "Epoch 9/100\n",
            "11/11 [==============================] - 1s 64ms/step - loss: 0.0017 - val_loss: 7.5263e-04\n",
            "Epoch 10/100\n",
            "11/11 [==============================] - 1s 64ms/step - loss: 0.0016 - val_loss: 8.6819e-04\n",
            "Epoch 11/100\n",
            "11/11 [==============================] - 1s 63ms/step - loss: 0.0016 - val_loss: 7.6690e-04\n",
            "Epoch 12/100\n",
            "11/11 [==============================] - 1s 65ms/step - loss: 0.0015 - val_loss: 8.9802e-04\n",
            "Epoch 13/100\n",
            "11/11 [==============================] - 1s 65ms/step - loss: 0.0016 - val_loss: 8.2952e-04\n",
            "Epoch 14/100\n",
            "11/11 [==============================] - 1s 63ms/step - loss: 0.0015 - val_loss: 7.1303e-04\n",
            "Epoch 15/100\n",
            "11/11 [==============================] - 1s 67ms/step - loss: 0.0015 - val_loss: 7.8238e-04\n",
            "Epoch 16/100\n",
            "11/11 [==============================] - 1s 61ms/step - loss: 0.0015 - val_loss: 8.8812e-04\n",
            "Epoch 17/100\n",
            "11/11 [==============================] - 1s 64ms/step - loss: 0.0014 - val_loss: 7.2737e-04\n",
            "Epoch 18/100\n",
            "11/11 [==============================] - 1s 66ms/step - loss: 0.0014 - val_loss: 7.7101e-04\n",
            "Epoch 19/100\n",
            "11/11 [==============================] - 1s 66ms/step - loss: 0.0014 - val_loss: 8.6306e-04\n",
            "Epoch 20/100\n",
            "11/11 [==============================] - 1s 64ms/step - loss: 0.0015 - val_loss: 6.7112e-04\n",
            "Epoch 21/100\n",
            "11/11 [==============================] - 1s 69ms/step - loss: 0.0014 - val_loss: 6.7233e-04\n",
            "Epoch 22/100\n",
            "11/11 [==============================] - 1s 64ms/step - loss: 0.0013 - val_loss: 7.9971e-04\n",
            "Epoch 23/100\n",
            "11/11 [==============================] - 1s 70ms/step - loss: 0.0013 - val_loss: 6.7366e-04\n",
            "Epoch 24/100\n",
            "11/11 [==============================] - 1s 69ms/step - loss: 0.0013 - val_loss: 7.0904e-04\n",
            "Epoch 25/100\n",
            "11/11 [==============================] - 1s 64ms/step - loss: 0.0013 - val_loss: 6.3700e-04\n",
            "Epoch 26/100\n",
            "11/11 [==============================] - 1s 67ms/step - loss: 0.0013 - val_loss: 6.2535e-04\n",
            "Epoch 27/100\n",
            "11/11 [==============================] - 1s 65ms/step - loss: 0.0012 - val_loss: 6.0562e-04\n",
            "Epoch 28/100\n",
            "11/11 [==============================] - 1s 66ms/step - loss: 0.0012 - val_loss: 6.8998e-04\n",
            "Epoch 29/100\n",
            "11/11 [==============================] - 1s 61ms/step - loss: 0.0012 - val_loss: 6.3225e-04\n",
            "Epoch 30/100\n",
            "11/11 [==============================] - 1s 65ms/step - loss: 0.0012 - val_loss: 6.2084e-04\n",
            "Epoch 31/100\n",
            "11/11 [==============================] - 1s 60ms/step - loss: 0.0012 - val_loss: 6.1149e-04\n",
            "Epoch 32/100\n",
            "11/11 [==============================] - 1s 61ms/step - loss: 0.0012 - val_loss: 6.6205e-04\n",
            "Epoch 33/100\n",
            "11/11 [==============================] - 1s 64ms/step - loss: 0.0012 - val_loss: 5.9527e-04\n",
            "Epoch 34/100\n",
            "11/11 [==============================] - 1s 63ms/step - loss: 0.0012 - val_loss: 5.4585e-04\n",
            "Epoch 35/100\n",
            "11/11 [==============================] - 1s 62ms/step - loss: 0.0012 - val_loss: 5.4173e-04\n",
            "Epoch 36/100\n",
            "11/11 [==============================] - 1s 68ms/step - loss: 0.0011 - val_loss: 6.6928e-04\n",
            "Epoch 37/100\n",
            "11/11 [==============================] - 1s 61ms/step - loss: 0.0011 - val_loss: 6.4828e-04\n",
            "Epoch 38/100\n",
            "11/11 [==============================] - 1s 58ms/step - loss: 0.0011 - val_loss: 5.4228e-04\n",
            "Epoch 39/100\n",
            "11/11 [==============================] - 1s 63ms/step - loss: 0.0010 - val_loss: 6.1694e-04\n",
            "Epoch 40/100\n",
            "11/11 [==============================] - 1s 65ms/step - loss: 0.0011 - val_loss: 6.6869e-04\n",
            "Epoch 41/100\n",
            "11/11 [==============================] - 1s 60ms/step - loss: 0.0012 - val_loss: 5.2486e-04\n",
            "Epoch 42/100\n",
            "11/11 [==============================] - 1s 64ms/step - loss: 0.0011 - val_loss: 5.2548e-04\n",
            "Epoch 43/100\n",
            "11/11 [==============================] - 1s 63ms/step - loss: 0.0010 - val_loss: 5.5303e-04\n",
            "Epoch 44/100\n",
            "11/11 [==============================] - 1s 64ms/step - loss: 9.8731e-04 - val_loss: 5.3970e-04\n",
            "Epoch 45/100\n",
            "11/11 [==============================] - 1s 67ms/step - loss: 9.7358e-04 - val_loss: 5.1285e-04\n",
            "Epoch 46/100\n",
            "11/11 [==============================] - 1s 68ms/step - loss: 9.7559e-04 - val_loss: 5.4088e-04\n",
            "Epoch 47/100\n",
            "11/11 [==============================] - 1s 66ms/step - loss: 9.5470e-04 - val_loss: 5.2293e-04\n",
            "Epoch 48/100\n",
            "11/11 [==============================] - 1s 61ms/step - loss: 9.7749e-04 - val_loss: 5.0385e-04\n",
            "Epoch 49/100\n",
            "11/11 [==============================] - 1s 60ms/step - loss: 9.3078e-04 - val_loss: 5.1171e-04\n",
            "Epoch 50/100\n",
            "11/11 [==============================] - 1s 65ms/step - loss: 9.2531e-04 - val_loss: 5.3132e-04\n",
            "Epoch 51/100\n",
            "11/11 [==============================] - 1s 62ms/step - loss: 9.4921e-04 - val_loss: 5.7895e-04\n",
            "Epoch 52/100\n",
            "11/11 [==============================] - 1s 64ms/step - loss: 9.3252e-04 - val_loss: 5.0256e-04\n",
            "Epoch 53/100\n",
            "11/11 [==============================] - 1s 68ms/step - loss: 9.1076e-04 - val_loss: 4.9785e-04\n",
            "Epoch 54/100\n",
            "11/11 [==============================] - 1s 62ms/step - loss: 8.9733e-04 - val_loss: 4.8214e-04\n",
            "Epoch 55/100\n",
            "11/11 [==============================] - 1s 62ms/step - loss: 9.0555e-04 - val_loss: 4.8115e-04\n",
            "Epoch 56/100\n",
            "11/11 [==============================] - 1s 64ms/step - loss: 9.5761e-04 - val_loss: 4.7962e-04\n",
            "Epoch 57/100\n",
            "11/11 [==============================] - 1s 65ms/step - loss: 9.5957e-04 - val_loss: 4.7387e-04\n",
            "Epoch 58/100\n",
            "11/11 [==============================] - 1s 64ms/step - loss: 8.8864e-04 - val_loss: 4.7523e-04\n",
            "Epoch 59/100\n",
            "11/11 [==============================] - 1s 62ms/step - loss: 9.6655e-04 - val_loss: 4.6853e-04\n",
            "Epoch 60/100\n",
            "11/11 [==============================] - 1s 62ms/step - loss: 9.4824e-04 - val_loss: 5.9027e-04\n",
            "Epoch 61/100\n",
            "11/11 [==============================] - 1s 64ms/step - loss: 9.4684e-04 - val_loss: 6.3066e-04\n",
            "Epoch 62/100\n",
            "11/11 [==============================] - 1s 65ms/step - loss: 9.3009e-04 - val_loss: 5.3788e-04\n",
            "Epoch 63/100\n",
            "11/11 [==============================] - 1s 64ms/step - loss: 8.9364e-04 - val_loss: 5.4302e-04\n",
            "Epoch 64/100\n",
            "11/11 [==============================] - 1s 65ms/step - loss: 8.7621e-04 - val_loss: 4.7204e-04\n",
            "Epoch 65/100\n",
            "11/11 [==============================] - 1s 62ms/step - loss: 8.3858e-04 - val_loss: 4.7077e-04\n",
            "Epoch 66/100\n",
            "11/11 [==============================] - 1s 63ms/step - loss: 8.2770e-04 - val_loss: 4.5449e-04\n",
            "Epoch 67/100\n",
            "11/11 [==============================] - 1s 59ms/step - loss: 8.3826e-04 - val_loss: 4.5338e-04\n",
            "Epoch 68/100\n",
            "11/11 [==============================] - 1s 67ms/step - loss: 8.4478e-04 - val_loss: 4.6388e-04\n",
            "Epoch 69/100\n",
            "11/11 [==============================] - 1s 65ms/step - loss: 8.1731e-04 - val_loss: 4.8128e-04\n",
            "Epoch 70/100\n",
            "11/11 [==============================] - 1s 64ms/step - loss: 8.2242e-04 - val_loss: 4.8725e-04\n",
            "Epoch 71/100\n",
            "11/11 [==============================] - 1s 61ms/step - loss: 8.3570e-04 - val_loss: 4.8550e-04\n",
            "Epoch 72/100\n",
            "11/11 [==============================] - 1s 67ms/step - loss: 8.6289e-04 - val_loss: 5.8385e-04\n",
            "Epoch 73/100\n",
            "11/11 [==============================] - 1s 67ms/step - loss: 8.4830e-04 - val_loss: 5.0838e-04\n",
            "Epoch 74/100\n",
            "11/11 [==============================] - 1s 60ms/step - loss: 8.2796e-04 - val_loss: 5.3114e-04\n",
            "Epoch 75/100\n",
            "11/11 [==============================] - 1s 63ms/step - loss: 8.5016e-04 - val_loss: 5.3258e-04\n",
            "Epoch 76/100\n",
            "11/11 [==============================] - 1s 66ms/step - loss: 7.7093e-04 - val_loss: 4.3350e-04\n",
            "Epoch 77/100\n",
            "11/11 [==============================] - 1s 65ms/step - loss: 7.5739e-04 - val_loss: 4.3509e-04\n",
            "Epoch 78/100\n",
            "11/11 [==============================] - 1s 65ms/step - loss: 7.5141e-04 - val_loss: 4.6314e-04\n",
            "Epoch 79/100\n",
            "11/11 [==============================] - 1s 65ms/step - loss: 7.5211e-04 - val_loss: 4.2444e-04\n",
            "Epoch 80/100\n",
            "11/11 [==============================] - 1s 61ms/step - loss: 7.6374e-04 - val_loss: 4.3173e-04\n",
            "Epoch 81/100\n",
            "11/11 [==============================] - 1s 66ms/step - loss: 7.5574e-04 - val_loss: 4.1937e-04\n",
            "Epoch 82/100\n",
            "11/11 [==============================] - 1s 69ms/step - loss: 7.5528e-04 - val_loss: 4.2396e-04\n",
            "Epoch 83/100\n",
            "11/11 [==============================] - 1s 65ms/step - loss: 7.3675e-04 - val_loss: 4.1519e-04\n",
            "Epoch 84/100\n",
            "11/11 [==============================] - 1s 64ms/step - loss: 8.0374e-04 - val_loss: 4.1427e-04\n",
            "Epoch 85/100\n",
            "11/11 [==============================] - 1s 66ms/step - loss: 7.5928e-04 - val_loss: 4.1096e-04\n",
            "Epoch 86/100\n",
            "11/11 [==============================] - 1s 68ms/step - loss: 7.3650e-04 - val_loss: 4.1795e-04\n",
            "Epoch 87/100\n",
            "11/11 [==============================] - 1s 62ms/step - loss: 7.2017e-04 - val_loss: 4.0984e-04\n",
            "Epoch 88/100\n",
            "11/11 [==============================] - 1s 65ms/step - loss: 7.1459e-04 - val_loss: 4.3900e-04\n",
            "Epoch 89/100\n",
            "11/11 [==============================] - 1s 66ms/step - loss: 7.5258e-04 - val_loss: 4.0669e-04\n",
            "Epoch 90/100\n",
            "11/11 [==============================] - 1s 64ms/step - loss: 7.3520e-04 - val_loss: 4.0355e-04\n",
            "Epoch 91/100\n",
            "11/11 [==============================] - 1s 65ms/step - loss: 7.2694e-04 - val_loss: 4.0832e-04\n",
            "Epoch 92/100\n",
            "11/11 [==============================] - 1s 62ms/step - loss: 7.4345e-04 - val_loss: 4.0485e-04\n",
            "Epoch 93/100\n",
            "11/11 [==============================] - 1s 61ms/step - loss: 7.6308e-04 - val_loss: 3.9944e-04\n",
            "Epoch 94/100\n",
            "11/11 [==============================] - 1s 68ms/step - loss: 6.9848e-04 - val_loss: 4.3221e-04\n",
            "Epoch 95/100\n",
            "11/11 [==============================] - 1s 65ms/step - loss: 6.8314e-04 - val_loss: 4.4157e-04\n",
            "Epoch 96/100\n",
            "11/11 [==============================] - 1s 63ms/step - loss: 6.7357e-04 - val_loss: 3.9127e-04\n",
            "Epoch 97/100\n",
            "11/11 [==============================] - 1s 63ms/step - loss: 6.6821e-04 - val_loss: 4.2586e-04\n",
            "Epoch 98/100\n",
            "11/11 [==============================] - 1s 66ms/step - loss: 6.8528e-04 - val_loss: 4.2101e-04\n",
            "Epoch 99/100\n",
            "11/11 [==============================] - 1s 64ms/step - loss: 6.6732e-04 - val_loss: 4.1443e-04\n",
            "Epoch 100/100\n",
            "11/11 [==============================] - 1s 58ms/step - loss: 6.7769e-04 - val_loss: 4.1050e-04\n"
          ],
          "name": "stdout"
        },
        {
          "output_type": "execute_result",
          "data": {
            "text/plain": [
              "<tensorflow.python.keras.callbacks.History at 0x7f51831c9fd0>"
            ]
          },
          "metadata": {
            "tags": []
          },
          "execution_count": 504
        }
      ]
    },
    {
      "cell_type": "markdown",
      "metadata": {
        "id": "EMJDPk3-S5Ox"
      },
      "source": [
        "## Making the predictions using the trained model"
      ]
    },
    {
      "cell_type": "code",
      "metadata": {
        "id": "VYbEGGFlMtgW"
      },
      "source": [
        "train_predict=model.predict(X_train)\n",
        "test_predict=model.predict(X_test)"
      ],
      "execution_count": 505,
      "outputs": []
    },
    {
      "cell_type": "markdown",
      "metadata": {
        "id": "2-6ABNxlS-G9"
      },
      "source": [
        "### Below are show the first 10 elements for both the training data predictions and the testing data predictions."
      ]
    },
    {
      "cell_type": "code",
      "metadata": {
        "colab": {
          "base_uri": "https://localhost:8080/"
        },
        "id": "KYfGLUo_VlvY",
        "outputId": "0e7da9b3-7d71-4d1c-a638-9c53849330fc"
      },
      "source": [
        "train_predict[:10], test_predict[:10]"
      ],
      "execution_count": 506,
      "outputs": [
        {
          "output_type": "execute_result",
          "data": {
            "text/plain": [
              "(array([[0.6197951 ],\n",
              "        [0.6299661 ],\n",
              "        [0.67442983],\n",
              "        [0.72149086],\n",
              "        [0.7719767 ],\n",
              "        [0.8125562 ],\n",
              "        [0.84614104],\n",
              "        [0.8616352 ],\n",
              "        [0.86417973],\n",
              "        [0.8644889 ]], dtype=float32), array([[0.23418666],\n",
              "        [0.2353228 ],\n",
              "        [0.2348519 ],\n",
              "        [0.23337638],\n",
              "        [0.2296205 ],\n",
              "        [0.22413093],\n",
              "        [0.22069478],\n",
              "        [0.21991494],\n",
              "        [0.22306663],\n",
              "        [0.2287901 ]], dtype=float32))"
            ]
          },
          "metadata": {
            "tags": []
          },
          "execution_count": 506
        }
      ]
    },
    {
      "cell_type": "markdown",
      "metadata": {
        "id": "ExvYWsDpTJZ0"
      },
      "source": [
        "## Transforming the predicted values for the original scale"
      ]
    },
    {
      "cell_type": "code",
      "metadata": {
        "id": "9o66R5lFMtgX"
      },
      "source": [
        "train_predict=scaler.inverse_transform(train_predict)\n",
        "test_predict=scaler.inverse_transform(test_predict)"
      ],
      "execution_count": 507,
      "outputs": []
    },
    {
      "cell_type": "code",
      "metadata": {
        "colab": {
          "base_uri": "https://localhost:8080/"
        },
        "id": "c9A7O0pTV3f_",
        "outputId": "00704824-2c1e-4d86-afd3-84ddc17d3207"
      },
      "source": [
        "train_predict[:10], test_predict[:10]"
      ],
      "execution_count": 508,
      "outputs": [
        {
          "output_type": "execute_result",
          "data": {
            "text/plain": [
              "(array([[240.92628],\n",
              "        [243.19545],\n",
              "        [253.11531],\n",
              "        [263.6146 ],\n",
              "        [274.878  ],\n",
              "        [283.9313 ],\n",
              "        [291.42407],\n",
              "        [294.8808 ],\n",
              "        [295.4485 ],\n",
              "        [295.5175 ]], dtype=float32), array([[154.89703],\n",
              "        [155.15053],\n",
              "        [155.04546],\n",
              "        [154.71626],\n",
              "        [153.87834],\n",
              "        [152.65361],\n",
              "        [151.88701],\n",
              "        [151.71303],\n",
              "        [152.41617],\n",
              "        [153.69307]], dtype=float32))"
            ]
          },
          "metadata": {
            "tags": []
          },
          "execution_count": 508
        }
      ]
    },
    {
      "cell_type": "markdown",
      "metadata": {
        "id": "KgxefRHtTvKS"
      },
      "source": [
        "### Reshaping the originally used training and testing data to be able to calculate the root mean squared errors accurately for the original scale"
      ]
    },
    {
      "cell_type": "code",
      "metadata": {
        "colab": {
          "base_uri": "https://localhost:8080/"
        },
        "id": "wht1FSKkXKxV",
        "outputId": "d686e003-760a-455a-f9d5-c517bd62d61f"
      },
      "source": [
        "y_train, ytest = y_train.reshape(701, 1), ytest.reshape(332, 1)\n",
        "y_train = scaler.inverse_transform(y_train)\n",
        "ytest = scaler.inverse_transform(ytest)\n",
        "y_train[:10], ytest[:10]"
      ],
      "execution_count": 509,
      "outputs": [
        {
          "output_type": "execute_result",
          "data": {
            "text/plain": [
              "(array([[255.9 ],\n",
              "        [287.5 ],\n",
              "        [285.25],\n",
              "        [292.  ],\n",
              "        [289.7 ],\n",
              "        [294.2 ],\n",
              "        [287.8 ],\n",
              "        [286.65],\n",
              "        [292.75],\n",
              "        [297.55]]), array([[157.4 ],\n",
              "        [155.2 ],\n",
              "        [154.35],\n",
              "        [151.55],\n",
              "        [149.55],\n",
              "        [152.4 ],\n",
              "        [154.75],\n",
              "        [158.55],\n",
              "        [160.45],\n",
              "        [163.6 ]]))"
            ]
          },
          "metadata": {
            "tags": []
          },
          "execution_count": 509
        }
      ]
    },
    {
      "cell_type": "markdown",
      "metadata": {
        "id": "L7qh_xKOUM_C"
      },
      "source": [
        "## The Root Mean Squared errors for the training and testing data predictions respectively"
      ]
    },
    {
      "cell_type": "code",
      "metadata": {
        "colab": {
          "base_uri": "https://localhost:8080/"
        },
        "id": "6oAB0hB3MtgX",
        "outputId": "40c43f23-2401-49db-fd89-1b7c1876f070"
      },
      "source": [
        "math.sqrt(mean_squared_error(y_train,train_predict))"
      ],
      "execution_count": 510,
      "outputs": [
        {
          "output_type": "execute_result",
          "data": {
            "text/plain": [
              "5.694785447093947"
            ]
          },
          "metadata": {
            "tags": []
          },
          "execution_count": 510
        }
      ]
    },
    {
      "cell_type": "code",
      "metadata": {
        "colab": {
          "base_uri": "https://localhost:8080/"
        },
        "id": "OZlyQPC-MtgX",
        "outputId": "c1b86965-3bf4-400d-c208-111cecfbfa3b"
      },
      "source": [
        "math.sqrt(mean_squared_error(ytest,test_predict))"
      ],
      "execution_count": 511,
      "outputs": [
        {
          "output_type": "execute_result",
          "data": {
            "text/plain": [
              "4.520160711157045"
            ]
          },
          "metadata": {
            "tags": []
          },
          "execution_count": 511
        }
      ]
    },
    {
      "cell_type": "markdown",
      "metadata": {
        "id": "KkYKanKeUXVw"
      },
      "source": [
        "## Processing the Output Data and Plotting it"
      ]
    },
    {
      "cell_type": "code",
      "metadata": {
        "colab": {
          "base_uri": "https://localhost:8080/",
          "height": 265
        },
        "id": "xMekteeUMtgX",
        "outputId": "9c1dc671-87f4-4cc0-f595-28c2d4d6d894"
      },
      "source": [
        "look_back=100\n",
        "trainPredictPlot = numpy.empty_like(df1)\n",
        "trainPredictPlot[:, :] = np.nan\n",
        "trainPredictPlot[look_back:len(train_predict)+look_back, :] = train_predict\n",
        "testPredictPlot = numpy.empty_like(df1)\n",
        "testPredictPlot[:, :] = numpy.nan\n",
        "testPredictPlot[len(train_predict)+(look_back*2)+1:len(df1)-1, :] = test_predict\n",
        "plt.plot(scaler.inverse_transform(df1))\n",
        "plt.plot(trainPredictPlot)\n",
        "plt.plot(testPredictPlot)\n",
        "plt.show()"
      ],
      "execution_count": 512,
      "outputs": [
        {
          "output_type": "display_data",
          "data": {
            "image/png": "[encoded data removed]",
            "text/plain": [
              "<Figure size 432x288 with 1 Axes>"
            ]
          },
          "metadata": {
            "tags": [],
            "needs_background": "light"
          }
        }
      ]
    },
    {
      "cell_type": "code",
      "metadata": {
        "colab": {
          "base_uri": "https://localhost:8080/"
        },
        "id": "ErPLyzh7MtgY",
        "outputId": "dba6bf94-e08b-431a-cb55-e386c7c6ff50"
      },
      "source": [
        "x_input=test_data[332:].reshape(1,-1)\n",
        "x_input.shape"
      ],
      "execution_count": 513,
      "outputs": [
        {
          "output_type": "execute_result",
          "data": {
            "text/plain": [
              "(1, 101)"
            ]
          },
          "metadata": {
            "tags": []
          },
          "execution_count": 513
        }
      ]
    },
    {
      "cell_type": "code",
      "metadata": {
        "id": "c_HklOZXMtgY"
      },
      "source": [
        "temp_input=list(x_input)\n",
        "temp_input=temp_input[0].tolist()"
      ],
      "execution_count": 514,
      "outputs": []
    },
    {
      "cell_type": "markdown",
      "metadata": {
        "id": "P_W4kHi6VHIp"
      },
      "source": [
        "## Predicting The Values for the next 10 days after the dataset ends"
      ]
    },
    {
      "cell_type": "code",
      "metadata": {
        "id": "y4ctg5dBMtgY"
      },
      "source": [
        "# demonstrate prediction for next 10 days\n",
        "lst_output=[]\n",
        "n_steps=100\n",
        "i=0\n",
        "while(i<30):\n",
        "    \n",
        "    if(len(temp_input)>100):\n",
        "        x_input=np.array(temp_input[1:])\n",
        "        x_input=x_input.reshape(1,-1)\n",
        "        x_input = x_input.reshape((1, n_steps, 1))\n",
        "        yhat = model.predict(x_input, verbose=0)\n",
        "        temp_input.extend(yhat[0].tolist())\n",
        "        temp_input=temp_input[1:]\n",
        "        lst_output.extend(yhat.tolist())\n",
        "        i=i+1\n",
        "    else:\n",
        "        x_input = x_input.reshape((1, n_steps,1))\n",
        "        yhat = model.predict(x_input, verbose=0)\n",
        "        temp_input.extend(yhat[0].tolist())\n",
        "        lst_output.extend(yhat.tolist())\n",
        "        i=i+1"
      ],
      "execution_count": 515,
      "outputs": []
    },
    {
      "cell_type": "code",
      "metadata": {
        "id": "AmjtDVt6Mtga"
      },
      "source": [
        "day_new=np.arange(1,101)\n",
        "day_pred=np.arange(101,131)"
      ],
      "execution_count": 516,
      "outputs": []
    },
    {
      "cell_type": "code",
      "metadata": {
        "id": "6QJbrqzsMtga",
        "colab": {
          "base_uri": "https://localhost:8080/",
          "height": 282
        },
        "outputId": "4656386d-0ae8-44cc-b388-30d89724a2f1"
      },
      "source": [
        "plt.plot(day_new,scaler.inverse_transform(df1[1135:]))\n",
        "plt.plot(day_pred,scaler.inverse_transform(lst_output))"
      ],
      "execution_count": 517,
      "outputs": [
        {
          "output_type": "execute_result",
          "data": {
            "text/plain": [
              "[<matplotlib.lines.Line2D at 0x7f5181336c18>]"
            ]
          },
          "metadata": {
            "tags": []
          },
          "execution_count": 517
        },
        {
          "output_type": "display_data",
          "data": {
            "image/png": "[encoded data removed]",
            "text/plain": [
              "<Figure size 432x288 with 1 Axes>"
            ]
          },
          "metadata": {
            "tags": [],
            "needs_background": "light"
          }
        }
      ]
    },
    {
      "cell_type": "code",
      "metadata": {
        "id": "dJRmSnYXMtgb",
        "colab": {
          "base_uri": "https://localhost:8080/",
          "height": 282
        },
        "outputId": "b8a5f5c1-c950-49c9-ef49-eb11d5fc454d"
      },
      "source": [
        "df3=df1.tolist()\n",
        "df3.extend(lst_output)\n",
        "plt.plot(df3[1200:])"
      ],
      "execution_count": 518,
      "outputs": [
        {
          "output_type": "execute_result",
          "data": {
            "text/plain": [
              "[<matplotlib.lines.Line2D at 0x7f51811fc2e8>]"
            ]
          },
          "metadata": {
            "tags": []
          },
          "execution_count": 518
        },
        {
          "output_type": "display_data",
          "data": {
            "image/png": "[encoded data removed]",
            "text/plain": [
              "<Figure size 432x288 with 1 Axes>"
            ]
          },
          "metadata": {
            "tags": [],
            "needs_background": "light"
          }
        }
      ]
    },
    {
      "cell_type": "code",
      "metadata": {
        "id": "PRJDgyJbMtgb"
      },
      "source": [
        "df3=scaler.inverse_transform(df3).tolist()"
      ],
      "execution_count": 519,
      "outputs": []
    },
    {
      "cell_type": "code",
      "metadata": {
        "id": "-Qnn4jpzMtgb",
        "colab": {
          "base_uri": "https://localhost:8080/",
          "height": 282
        },
        "outputId": "b95d62be-d571-4859-c622-9fd20a9ad944"
      },
      "source": [
        "plt.plot(df3)"
      ],
      "execution_count": 520,
      "outputs": [
        {
          "output_type": "execute_result",
          "data": {
            "text/plain": [
              "[<matplotlib.lines.Line2D at 0x7f518121a8d0>]"
            ]
          },
          "metadata": {
            "tags": []
          },
          "execution_count": 520
        },
        {
          "output_type": "display_data",
          "data": {
            "image/png": "[encoded data removed]",
            "text/plain": [
              "<Figure size 432x288 with 1 Axes>"
            ]
          },
          "metadata": {
            "tags": [],
            "needs_background": "light"
          }
        }
      ]
    }
  ]
}